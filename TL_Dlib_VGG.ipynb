{
 "cells": [
  {
   "cell_type": "code",
   "execution_count": 1,
   "metadata": {},
   "outputs": [
    {
     "name": "stderr",
     "output_type": "stream",
     "text": [
      "/Users/dhitithakkar/anaconda/lib/python3.6/site-packages/h5py/__init__.py:34: FutureWarning: Conversion of the second argument of issubdtype from `float` to `np.floating` is deprecated. In future, it will be treated as `np.float64 == np.dtype(float).type`.\n",
      "  from ._conv import register_converters as _register_converters\n",
      "Using TensorFlow backend.\n"
     ]
    },
    {
     "name": "stdout",
     "output_type": "stream",
     "text": [
      "Processed 0 of 24\n",
      "Processed 1 of 24\n",
      "Processed 2 of 24\n",
      "Processed 3 of 24\n",
      "Processed 4 of 24\n",
      "Processed 5 of 24\n",
      "Processed 6 of 24\n",
      "Processed 7 of 24\n",
      "Processed 8 of 24\n",
      "Processed 9 of 24\n",
      "Processed 10 of 24\n",
      "Processed 11 of 24\n",
      "Processed 12 of 24\n",
      "Processed 13 of 24\n",
      "Processed 14 of 24\n",
      "Processed 15 of 24\n",
      "Processed 16 of 24\n",
      "Processed 17 of 24\n",
      "Processed 18 of 24\n",
      "Processed 19 of 24\n",
      "Processed 20 of 24\n",
      "Processed 21 of 24\n",
      "Processed 22 of 24\n",
      "Processed 23 of 24\n",
      "Processed 0 of 63\n",
      "Processed 1 of 63\n",
      "Processed 2 of 63\n",
      "Processed 3 of 63\n",
      "Processed 4 of 63\n",
      "Processed 5 of 63\n",
      "Processed 6 of 63\n",
      "Processed 7 of 63\n",
      "Processed 8 of 63\n",
      "Processed 9 of 63\n",
      "Processed 10 of 63\n",
      "Processed 11 of 63\n",
      "Processed 12 of 63\n",
      "Processed 13 of 63\n",
      "Processed 14 of 63\n",
      "Processed 15 of 63\n",
      "Processed 16 of 63\n",
      "Processed 17 of 63\n",
      "Processed 18 of 63\n",
      "Processed 19 of 63\n",
      "Processed 20 of 63\n",
      "Processed 21 of 63\n",
      "Processed 22 of 63\n",
      "Processed 23 of 63\n",
      "Processed 24 of 63\n",
      "Processed 25 of 63\n",
      "Processed 26 of 63\n",
      "Processed 27 of 63\n",
      "Processed 28 of 63\n",
      "Processed 29 of 63\n",
      "Processed 30 of 63\n",
      "Processed 31 of 63\n",
      "Processed 32 of 63\n",
      "Processed 33 of 63\n",
      "Processed 34 of 63\n",
      "Processed 35 of 63\n",
      "Processed 36 of 63\n",
      "Processed 37 of 63\n",
      "Processed 38 of 63\n",
      "Processed 39 of 63\n",
      "Processed 40 of 63\n",
      "Processed 41 of 63\n",
      "Processed 42 of 63\n",
      "Processed 43 of 63\n",
      "Processed 44 of 63\n",
      "Processed 45 of 63\n",
      "Processed 46 of 63\n",
      "Processed 47 of 63\n",
      "Processed 48 of 63\n",
      "Processed 49 of 63\n",
      "Processed 50 of 63\n",
      "Processed 51 of 63\n",
      "Processed 52 of 63\n",
      "Processed 53 of 63\n",
      "Processed 54 of 63\n",
      "Processed 55 of 63\n",
      "Processed 56 of 63\n",
      "Processed 57 of 63\n",
      "Processed 58 of 63\n",
      "Processed 59 of 63\n",
      "Processed 60 of 63\n",
      "Processed 61 of 63\n",
      "Processed 62 of 63\n",
      "Train shape: (24, 3, 224, 224)\n",
      "Test shape:  (63, 3, 224, 224)\n"
     ]
    }
   ],
   "source": [
    "import keras\n",
    "import numpy as np \n",
    "import pandas as pd \n",
    "import os, cv2, random\n",
    "from keras.models import Sequential\n",
    "from keras.layers import    Input, Dropout, Flatten, Convolution2D, MaxPooling2D, Dense, Activation\n",
    "\n",
    "TRAIN_DIR = 'train_equal_re/'\n",
    "TEST_DIR = 'test_v2_re/'\n",
    "\n",
    "ROWS = 224\n",
    "COLS = 224\n",
    "CHANNELS = 3\n",
    "\n",
    "train_images = [TRAIN_DIR + i for i in os.listdir(TRAIN_DIR)]\n",
    "test_images = [TEST_DIR + i for i in os.listdir(TEST_DIR)]\n",
    "\n",
    "def read_image(file_path):\n",
    "    img = cv2.imread(file_path, cv2.IMREAD_COLOR)\n",
    "    return cv2.resize(img, (ROWS, COLS), interpolation = cv2.INTER_CUBIC)\n",
    "\n",
    "    \n",
    "def prep_data(images):\n",
    "    count = len(images)\n",
    "    data = np.ndarray((count, CHANNELS, ROWS, COLS), dtype = np.uint8)\n",
    "    \n",
    "    for i, image_file in enumerate(images):\n",
    "        image = read_image(image_file)\n",
    "        data[i] = image.T\n",
    "        \n",
    "        if i % 1 == 0:\n",
    "            print ('Processed {} of {}'.format(i, count))\n",
    "            \n",
    "    return data\n",
    "\n",
    "train = prep_data(train_images)\n",
    "test = prep_data(test_images)\n",
    "\n",
    "print(\"Train shape: {}\".format(train.shape))\n",
    "print(\"Test shape:  {}\".format(test.shape))"
   ]
  },
  {
   "cell_type": "code",
   "execution_count": 2,
   "metadata": {},
   "outputs": [
    {
     "name": "stdout",
     "output_type": "stream",
     "text": [
      "[3 3 3 7 6 1 5 5 1 6 0 7 6 5 1 7 4 4 4 0 2 2 0 2]\n",
      "[7 3 3 7 7 3 3 7 3 6 6 3 7 7 3 6 1 2 2 0 6 1 0 2 2 0 1 1 0 2 0 1 1 0 2 2 0\n",
      " 6 0 4 5 0 6 5 4 5 6 6 5 2 2 5 6 6 0 5 5 0 6 3 3 3 2]\n",
      "X_train.shape (24, 224, 224, 3)\n",
      "X_test.shape (63, 224, 224, 3)\n"
     ]
    }
   ],
   "source": [
    "labels = []\n",
    "for i in train_images:\n",
    "    if 'Agnes' in i:\n",
    "        labels.append(0)\n",
    "    elif 'Alexander' in i:\n",
    "        labels.append(1)\n",
    "    elif 'Allyson' in i:\n",
    "        labels.append(2)\n",
    "    elif 'Amelia' in i:\n",
    "        labels.append(3)\n",
    "    elif 'Angelo' in i:\n",
    "        labels.append(4)\n",
    "    elif 'Anibal' in i:\n",
    "        labels.append(5)\n",
    "    elif 'Anthony' in i:\n",
    "        labels.append(6)\n",
    "    elif 'Yekaterina' in i:\n",
    "        labels.append(7)\n",
    "    else:\n",
    "        labels.append(8)\n",
    "        \n",
    "train = train.reshape(-1,224,224,3)\n",
    "test = test.reshape(-1,224,224,3)\n",
    "X_train = train.astype('float32')\n",
    "X_test = test.astype('float32')\n",
    "X_train /= 255\n",
    "X_test /= 255\n",
    "Y_train = labels\n",
    "X_train=np.array(X_train)\n",
    "X_test=np.array(X_test)\n",
    "Y_train=np.array(Y_train)\n",
    "print(Y_train)\n",
    "labels_test = []\n",
    "for i in test_images:\n",
    "    if 'Agnes' in i:\n",
    "        labels_test.append(0)\n",
    "    elif 'Alexander' in i:\n",
    "        labels_test.append(1)\n",
    "    elif 'Allyson' in i:\n",
    "        labels_test.append(2)\n",
    "    elif 'Amelia' in i:\n",
    "        labels_test.append(3)\n",
    "    elif 'Angelo' in i:\n",
    "        labels_test.append(4)\n",
    "    elif 'Anibal' in i:\n",
    "        labels_test.append(5)\n",
    "    elif 'Anthony' in i:\n",
    "        labels_test.append(6)\n",
    "    elif 'Yekaterina' in i:\n",
    "        labels_test.append(7)\n",
    "    else:\n",
    "        labels_test.append(8)\n",
    "Y_test = labels_test\n",
    "Y_test = np.array(Y_test)\n",
    "print(Y_test)\n",
    "print(\"X_train.shape \" + str(X_train.shape))\n",
    "print(\"X_test.shape \" + str(X_test.shape))"
   ]
  },
  {
   "cell_type": "code",
   "execution_count": 3,
   "metadata": {
    "collapsed": true
   },
   "outputs": [],
   "source": [
    "from keras.applications.vgg16 import VGG16, preprocess_input, decode_predictions\n",
    "from keras.preprocessing import image\n",
    "model = VGG16(weights='imagenet', include_top=False)"
   ]
  },
  {
   "cell_type": "code",
   "execution_count": 4,
   "metadata": {},
   "outputs": [
    {
     "name": "stdout",
     "output_type": "stream",
     "text": [
      "Training matrix shape  (24, 224, 224, 3)\n",
      "Testing matrix shape   (63, 224, 224, 3)\n"
     ]
    }
   ],
   "source": [
    "print(\"Training matrix shape \", X_train.shape) #  m X features\n",
    "print(\"Testing matrix shape  \", X_test.shape) #  m X features"
   ]
  },
  {
   "cell_type": "code",
   "execution_count": 5,
   "metadata": {},
   "outputs": [
    {
     "name": "stdout",
     "output_type": "stream",
     "text": [
      "(24, 7, 7, 512)\n",
      "(24, 25088)\n"
     ]
    }
   ],
   "source": [
    "features_x=model.predict(X_train)\n",
    "print(features_x.shape)\n",
    "X_train = features_x.reshape(24,25088)\n",
    "print(X_train.shape)"
   ]
  },
  {
   "cell_type": "code",
   "execution_count": 6,
   "metadata": {},
   "outputs": [],
   "source": [
    "from resnet_dlib_train import feature_gen \n",
    "X_facial = []\n",
    "for img in sorted(os.listdir(TRAIN_DIR)):\n",
    "    bounding_box, features = feature_gen(TRAIN_DIR, img)\n",
    "    X_facial.append(features)\n",
    "X_facial = np.array(X_facial)\n",
    "X_train = np.hstack((X_train,X_facial))"
   ]
  },
  {
   "cell_type": "code",
   "execution_count": 7,
   "metadata": {},
   "outputs": [
    {
     "name": "stdout",
     "output_type": "stream",
     "text": [
      "(63, 7, 7, 512)\n",
      "(63, 25088)\n"
     ]
    }
   ],
   "source": [
    "features_xtest=model.predict(X_test)\n",
    "print(features_xtest.shape)\n",
    "X_test=features_xtest.reshape(63,25088)\n",
    "print(X_test.shape)"
   ]
  },
  {
   "cell_type": "code",
   "execution_count": 8,
   "metadata": {},
   "outputs": [],
   "source": [
    "from resnet_dlib_test import feature_gen\n",
    "X_facial_test = []\n",
    "for img in sorted(os.listdir(TEST_DIR)):\n",
    "    bounding_box, features = feature_gen(TEST_DIR, img)\n",
    "    X_facial_test.append(features)\n",
    "X_facial_test = np.array(X_facial_test)\n",
    "X_test = np.hstack((X_test,X_facial_test))"
   ]
  },
  {
   "cell_type": "code",
   "execution_count": 9,
   "metadata": {},
   "outputs": [
    {
     "name": "stdout",
     "output_type": "stream",
     "text": [
      "Training matrix shape  (24, 25216)\n",
      "Testing matrix shape   (63, 25216)\n"
     ]
    }
   ],
   "source": [
    "print(\"Training matrix shape \", X_train.shape)\n",
    "print(\"Testing matrix shape  \", X_test.shape)"
   ]
  },
  {
   "cell_type": "code",
   "execution_count": 11,
   "metadata": {},
   "outputs": [
    {
     "name": "stdout",
     "output_type": "stream",
     "text": [
      "Epoch 1/5\n",
      "24/24 [==============================] - 1s 26ms/step - loss: 3.3339 - acc: 0.0833\n",
      "Epoch 2/5\n",
      "24/24 [==============================] - 0s 3ms/step - loss: 0.7070 - acc: 0.9167\n",
      "Epoch 3/5\n",
      "24/24 [==============================] - 0s 3ms/step - loss: 0.4004 - acc: 1.0000\n",
      "Epoch 4/5\n",
      "24/24 [==============================] - 0s 3ms/step - loss: 0.3228 - acc: 1.0000\n",
      "Epoch 5/5\n",
      "24/24 [==============================] - 0s 3ms/step - loss: 0.2804 - acc: 1.0000\n"
     ]
    },
    {
     "data": {
      "text/plain": [
       "<keras.callbacks.History at 0x125d472b0>"
      ]
     },
     "execution_count": 11,
     "metadata": {},
     "output_type": "execute_result"
    }
   ],
   "source": [
    "import tensorflow as tf\n",
    "tf.logging.set_verbosity(tf.logging.ERROR)\n",
    "model=Sequential()\n",
    "#25216\n",
    "model.add(Dense(128, input_dim=25216, activation='relu',kernel_initializer='glorot_uniform'))\n",
    "keras.layers.core.Dropout(0.1, noise_shape=None, seed=None)\n",
    "model.add(keras.layers.BatchNormalization(axis=-1, momentum=0.99, epsilon=0.001, center=True, scale=True, beta_initializer='zeros', gamma_initializer='ones', moving_mean_initializer='zeros', moving_variance_initializer='ones', beta_regularizer=None, gamma_regularizer=None, beta_constraint=None, gamma_constraint=None))\n",
    "\n",
    "model.add(Dense(16,input_dim=128,activation='sigmoid'))\n",
    "keras.layers.core.Dropout(0.2, noise_shape=None, seed=None)\n",
    "model.add(keras.layers.BatchNormalization(axis=-1, momentum=0.99, epsilon=0.001, center=True, scale=True, beta_initializer='zeros', gamma_initializer='ones', moving_mean_initializer='zeros', moving_variance_initializer='ones', beta_regularizer=None, gamma_regularizer=None, beta_constraint=None, gamma_constraint=None))\n",
    "\n",
    "model.add(Dense(9,input_dim=16,activation='softmax'))\n",
    "model.compile(loss='sparse_categorical_crossentropy', optimizer='adam', metrics=['accuracy'])\n",
    "\n",
    "model.fit(X_train, Y_train, epochs=5)"
   ]
  },
  {
   "cell_type": "code",
   "execution_count": 12,
   "metadata": {},
   "outputs": [
    {
     "name": "stdout",
     "output_type": "stream",
     "text": [
      "[[0.10206437 0.08367842 0.06826109 0.05744117 0.04864985 0.27055097\n",
      "  0.1291678  0.21965992 0.02052635]\n",
      " [0.11890335 0.08230159 0.03901517 0.05439773 0.03195954 0.40026587\n",
      "  0.07464591 0.18598878 0.01252201]\n",
      " [0.0501957  0.08702508 0.06957064 0.05043021 0.0450711  0.29341283\n",
      "  0.24628647 0.1366408  0.02136716]\n",
      " [0.09403636 0.0837539  0.05111444 0.0594499  0.03865582 0.36844578\n",
      "  0.0967902  0.18918252 0.01857108]\n",
      " [0.05972714 0.0812078  0.07000476 0.06383776 0.05142839 0.26448262\n",
      "  0.23562501 0.14959835 0.02408815]\n",
      " [0.08010388 0.07745542 0.03694222 0.06064007 0.0360207  0.38417137\n",
      "  0.12537171 0.1852252  0.01406932]\n",
      " [0.06458081 0.06719641 0.04299567 0.06323029 0.04853565 0.32522315\n",
      "  0.18629543 0.1843202  0.01762242]\n",
      " [0.07840116 0.08344755 0.03421691 0.05248134 0.03172443 0.4038517\n",
      "  0.13072954 0.17167293 0.01347443]\n",
      " [0.0367666  0.05430862 0.02715372 0.06098257 0.04410891 0.46153134\n",
      "  0.17159334 0.12642135 0.01713363]\n",
      " [0.05536658 0.0929831  0.03290469 0.04150413 0.02445347 0.4996447\n",
      "  0.10793186 0.13296899 0.01224241]\n",
      " [0.04891412 0.07256293 0.03103462 0.04769215 0.03218226 0.48229033\n",
      "  0.13876411 0.13198362 0.01457588]\n",
      " [0.05280009 0.09446404 0.04313589 0.07041916 0.05523471 0.2549502\n",
      "  0.2652554  0.14012018 0.02362039]\n",
      " [0.0247455  0.07973848 0.03946302 0.04523856 0.03386925 0.43405232\n",
      "  0.25000635 0.06815628 0.02473027]\n",
      " [0.03905389 0.08772554 0.07365914 0.05625991 0.04682876 0.30413043\n",
      "  0.26473612 0.09923644 0.0283698 ]\n",
      " [0.04791497 0.07773151 0.05082285 0.06155727 0.046648   0.30896586\n",
      "  0.2711686  0.11109994 0.02409107]\n",
      " [0.0304401  0.12497392 0.03790893 0.04784268 0.03001832 0.40938723\n",
      "  0.22760683 0.06552777 0.02629412]\n",
      " [0.03888314 0.09509676 0.06553119 0.05009016 0.03910199 0.34591934\n",
      "  0.2222404  0.119901   0.02323601]\n",
      " [0.03746469 0.05915957 0.02104179 0.05048482 0.03298067 0.53158575\n",
      "  0.14583674 0.10812787 0.01331805]\n",
      " [0.02139898 0.10691102 0.03120961 0.05067847 0.03611875 0.40269357\n",
      "  0.25965756 0.06149509 0.02983693]\n",
      " [0.04393174 0.07094837 0.0220117  0.04288392 0.02608646 0.5606518\n",
      "  0.12118196 0.10044049 0.01186343]\n",
      " [0.04426891 0.06986976 0.05691103 0.05336126 0.04742086 0.36454168\n",
      "  0.20862176 0.13204852 0.02295619]\n",
      " [0.03564127 0.08304638 0.07470059 0.05310002 0.0430856  0.3551389\n",
      "  0.22615236 0.10023756 0.02889737]\n",
      " [0.07163473 0.08036006 0.05901428 0.05745936 0.04232395 0.32164538\n",
      "  0.16984974 0.1780952  0.01961729]\n",
      " [0.03328999 0.05538545 0.02053253 0.04565646 0.03037326 0.5883972\n",
      "  0.11906465 0.09424712 0.01305335]\n",
      " [0.03403312 0.14225166 0.0328775  0.04617798 0.026823   0.4384495\n",
      "  0.18865874 0.06761199 0.02311648]\n",
      " [0.04656054 0.05989648 0.01523786 0.04816742 0.0264876  0.5948795\n",
      "  0.10010405 0.09975114 0.00891535]\n",
      " [0.05247923 0.10033613 0.08062232 0.05359098 0.04517385 0.27454865\n",
      "  0.23506406 0.13365829 0.02452645]\n",
      " [0.05940545 0.06883746 0.05292509 0.0651097  0.05372897 0.3044958\n",
      "  0.22033104 0.15286203 0.02230448]\n",
      " [0.06827122 0.08693769 0.05605863 0.07297616 0.05863944 0.25121167\n",
      "  0.20171383 0.181182   0.02300935]\n",
      " [0.04441469 0.07838052 0.08528368 0.05735341 0.04311955 0.33136684\n",
      "  0.22746632 0.1040724  0.0285426 ]\n",
      " [0.0926538  0.09775756 0.03571574 0.04712394 0.02707148 0.42300665\n",
      "  0.10618268 0.1587961  0.01169204]\n",
      " [0.02717521 0.06125349 0.04494914 0.05093773 0.04413439 0.40312314\n",
      "  0.2593023  0.08599269 0.02313193]\n",
      " [0.04304621 0.08128496 0.06794902 0.04926315 0.03930251 0.40815628\n",
      "  0.16494216 0.12182915 0.02422671]\n",
      " [0.03343829 0.07830849 0.03947506 0.06490427 0.04713544 0.28865045\n",
      "  0.34344465 0.07486323 0.02978012]\n",
      " [0.06888486 0.08990128 0.08154518 0.06255176 0.04959529 0.34049428\n",
      "  0.11192919 0.1680893  0.02700896]\n",
      " [0.03682476 0.06143501 0.03876277 0.05743061 0.04792865 0.3694217\n",
      "  0.24541965 0.12207391 0.02070292]\n",
      " [0.05156595 0.16463393 0.04244973 0.04801627 0.02646734 0.37859625\n",
      "  0.17081104 0.09507231 0.02238712]\n",
      " [0.05937232 0.12115254 0.07485418 0.0588117  0.04652474 0.25277108\n",
      "  0.2143676  0.14651434 0.02563152]\n",
      " [0.12153058 0.07029613 0.0246143  0.0466582  0.02563556 0.44430283\n",
      "  0.07709166 0.18213628 0.00773434]\n",
      " [0.02495783 0.08423323 0.04671771 0.05255755 0.04145376 0.34133112\n",
      "  0.31125465 0.06770856 0.02978564]\n",
      " [0.02499757 0.09946948 0.03645268 0.05315276 0.03853172 0.35979807\n",
      "  0.29263136 0.06361773 0.03134863]\n",
      " [0.08722206 0.08360121 0.08628867 0.05899094 0.0531076  0.24688497\n",
      "  0.15824865 0.2002464  0.0254095 ]\n",
      " [0.03616973 0.07287636 0.06195179 0.05636702 0.04932451 0.3302762\n",
      "  0.26701266 0.09962682 0.02639491]\n",
      " [0.05451905 0.10806539 0.08401418 0.05348517 0.04377786 0.27111724\n",
      "  0.22689144 0.13174468 0.0263849 ]\n",
      " [0.06126625 0.09488283 0.05000328 0.05510548 0.03890628 0.34413707\n",
      "  0.18574728 0.15062872 0.01932286]\n",
      " [0.04007609 0.09714678 0.07374151 0.05673487 0.04240439 0.28830868\n",
      "  0.28305095 0.08825564 0.03028103]\n",
      " [0.02631242 0.07152979 0.05127525 0.04861248 0.04247453 0.40897\n",
      "  0.23719716 0.08850234 0.02512591]\n",
      " [0.02655379 0.11287418 0.03693932 0.04858651 0.03182579 0.407494\n",
      "  0.24703102 0.06056417 0.02813115]\n",
      " [0.05124071 0.07352769 0.0368695  0.06272593 0.04344667 0.36415213\n",
      "  0.20510122 0.14327404 0.01966211]\n",
      " [0.07791646 0.0811811  0.04492724 0.06535105 0.04428693 0.32012048\n",
      "  0.14591211 0.20228934 0.01801528]\n",
      " [0.02023136 0.07832572 0.033526   0.05647752 0.04729992 0.33064428\n",
      "  0.3444412  0.05767275 0.03138132]\n",
      " [0.09951618 0.06188885 0.0229139  0.04637288 0.02503118 0.50186324\n",
      "  0.06718593 0.16728961 0.00793818]\n",
      " [0.08871862 0.08497367 0.03990908 0.07160158 0.04503118 0.338293\n",
      "  0.12758626 0.18873279 0.01515383]\n",
      " [0.09478745 0.09383219 0.05538321 0.05376079 0.03920557 0.31681818\n",
      "  0.13856207 0.1912908  0.01635972]\n",
      " [0.04596364 0.09284858 0.06404136 0.0532095  0.04150713 0.306605\n",
      "  0.25734904 0.11436217 0.02411364]\n",
      " [0.02408573 0.07134575 0.04459804 0.04794586 0.03956015 0.4126683\n",
      "  0.25175413 0.08388676 0.02415533]\n",
      " [0.03592151 0.11811163 0.0404094  0.05049901 0.03293728 0.34469947\n",
      "  0.28270936 0.06593335 0.02877895]\n",
      " [0.11159675 0.10348412 0.09590523 0.0605235  0.04984772 0.25350404\n",
      "  0.107658   0.19274887 0.02473177]\n",
      " [0.03678422 0.0860201  0.0584695  0.05485946 0.03898981 0.35149074\n",
      "  0.2638952  0.08216412 0.02732685]\n",
      " [0.106459   0.0762939  0.03229191 0.0477834  0.03017036 0.3997114\n",
      "  0.09589262 0.19994737 0.01145007]\n",
      " [0.08189588 0.09838303 0.0705769  0.0616898  0.04883299 0.23398642\n",
      "  0.17565499 0.2079656  0.02101445]\n",
      " [0.0542507  0.06475053 0.02641103 0.05676761 0.03865695 0.45494816\n",
      "  0.14861329 0.14163229 0.01396951]\n",
      " [0.10194898 0.09158065 0.1182562  0.05952374 0.05632733 0.22878094\n",
      "  0.12267409 0.19386333 0.02704485]]\n",
      "63/63 [==============================] - 0s 1ms/step\n",
      "[2.3630679524134077, 0.11111110779974195]\n"
     ]
    }
   ],
   "source": [
    "from sklearn.metrics import log_loss\n",
    "pred = model.predict(X_test, batch_size=32, verbose=0)\n",
    "print(pred)\n",
    "print(model.evaluate(X_test,Y_test))"
   ]
  },
  {
   "cell_type": "code",
   "execution_count": null,
   "metadata": {},
   "outputs": [],
   "source": [
    "model.summary()"
   ]
  }
 ],
 "metadata": {
  "kernelspec": {
   "display_name": "Python 3",
   "language": "python",
   "name": "python3"
  },
  "language_info": {
   "codemirror_mode": {
    "name": "ipython",
    "version": 3
   },
   "file_extension": ".py",
   "mimetype": "text/x-python",
   "name": "python",
   "nbconvert_exporter": "python",
   "pygments_lexer": "ipython3",
   "version": "3.6.1"
  }
 },
 "nbformat": 4,
 "nbformat_minor": 2
}
