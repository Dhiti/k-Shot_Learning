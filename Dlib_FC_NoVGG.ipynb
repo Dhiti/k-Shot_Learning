{
 "cells": [
  {
   "cell_type": "code",
   "execution_count": 1,
   "metadata": {},
   "outputs": [
    {
     "name": "stderr",
     "output_type": "stream",
     "text": [
      "/Users/dhitithakkar/anaconda/lib/python3.6/site-packages/h5py/__init__.py:34: FutureWarning: Conversion of the second argument of issubdtype from `float` to `np.floating` is deprecated. In future, it will be treated as `np.float64 == np.dtype(float).type`.\n",
      "  from ._conv import register_converters as _register_converters\n",
      "Using TensorFlow backend.\n"
     ]
    }
   ],
   "source": [
    "import keras\n",
    "import numpy as np \n",
    "import os, cv2, random\n",
    "from keras.models import Sequential\n",
    "from keras.layers import Dropout, Dense, Activation\n",
    "\n",
    "TRAIN_DIR = 'train_equal_re/'\n",
    "TEST_DIR = 'test_v2_re/'\n",
    "\n",
    "train_images = [TRAIN_DIR + i for i in os.listdir(TRAIN_DIR)]\n",
    "test_images = [TEST_DIR + i for i in os.listdir(TEST_DIR)]\n"
   ]
  },
  {
   "cell_type": "code",
   "execution_count": 2,
   "metadata": {},
   "outputs": [
    {
     "name": "stdout",
     "output_type": "stream",
     "text": [
      "[[0 0 0 1 0 0 0 0 0]\n",
      " [0 0 0 1 0 0 0 0 0]\n",
      " [0 0 0 1 0 0 0 0 0]\n",
      " [0 0 0 0 0 0 0 1 0]\n",
      " [0 0 0 0 0 0 1 0 0]\n",
      " [0 1 0 0 0 0 0 0 0]\n",
      " [0 0 0 0 0 1 0 0 0]\n",
      " [0 0 0 0 0 1 0 0 0]\n",
      " [0 1 0 0 0 0 0 0 0]\n",
      " [0 0 0 0 0 0 1 0 0]\n",
      " [1 0 0 0 0 0 0 0 0]\n",
      " [0 0 0 0 0 0 0 1 0]\n",
      " [0 0 0 0 0 0 1 0 0]\n",
      " [0 0 0 0 0 1 0 0 0]\n",
      " [0 1 0 0 0 0 0 0 0]\n",
      " [0 0 0 0 0 0 0 1 0]\n",
      " [0 0 0 0 1 0 0 0 0]\n",
      " [0 0 0 0 1 0 0 0 0]\n",
      " [0 0 0 0 1 0 0 0 0]\n",
      " [1 0 0 0 0 0 0 0 0]\n",
      " [0 0 1 0 0 0 0 0 0]\n",
      " [0 0 1 0 0 0 0 0 0]\n",
      " [1 0 0 0 0 0 0 0 0]\n",
      " [0 0 1 0 0 0 0 0 0]]\n",
      "[]\n"
     ]
    }
   ],
   "source": [
    "labels = []\n",
    "for i in train_images:\n",
    "    if 'Agnes' in i:\n",
    "        labels.append([1,0,0,0,0,0,0,0,0])\n",
    "    elif 'Alexander' in i:\n",
    "        labels.append([0,1,0,0,0,0,0,0,0])\n",
    "    elif 'Allyson' in i:\n",
    "        labels.append([0,0,1,0,0,0,0,0,0])\n",
    "    elif 'Amelia' in i:\n",
    "        labels.append([0,0,0,1,0,0,0,0,0])\n",
    "    elif 'Angelo' in i:\n",
    "        labels.append([0,0,0,0,1,0,0,0,0])\n",
    "    elif 'Anibal' in i:\n",
    "        labels.append([0,0,0,0,0,1,0,0,0])\n",
    "    elif 'Anthony' in i:\n",
    "        labels.append([0,0,0,0,0,0,1,0,0])\n",
    "    elif 'Yekaterina' in i:\n",
    "        labels.append([0,0,0,0,0,0,0,1,0])\n",
    "    else:\n",
    "        labels.append([0,0,0,0,0,0,0,0,1])\n",
    "        \n",
    "Y_train = labels\n",
    "Y_train=np.array(Y_train) # m X 9\n",
    "print(Y_train)\n",
    "\n",
    "labels_test = []\n",
    "for i in test_images:\n",
    "    if 'Agnes' in i:\n",
    "        labels.append([1,0,0,0,0,0,0,0,0])\n",
    "    elif 'Alexander' in i:\n",
    "        labels.append([0,1,0,0,0,0,0,0,0])\n",
    "    elif 'Allyson' in i:\n",
    "        labels.append([0,0,1,0,0,0,0,0,0])\n",
    "    elif 'Amelia' in i:\n",
    "        labels.append([0,0,0,1,0,0,0,0,0])\n",
    "    elif 'Angelo' in i:\n",
    "        labels.append([0,0,0,0,1,0,0,0,0])\n",
    "    elif 'Anibal' in i:\n",
    "        labels.append([0,0,0,0,0,1,0,0,0])\n",
    "    elif 'Anthony' in i:\n",
    "        labels.append([0,0,0,0,0,0,1,0,0])\n",
    "    elif 'Yekaterina' in i:\n",
    "        labels.append([0,0,0,0,0,0,0,1,0])\n",
    "    else:\n",
    "        labels.append([0,0,0,0,0,0,0,0,1])\n",
    "Y_test = labels_test\n",
    "Y_test = np.array(Y_test) # m X 9\n",
    "print(Y_test)"
   ]
  },
  {
   "cell_type": "code",
   "execution_count": 3,
   "metadata": {
    "collapsed": true
   },
   "outputs": [],
   "source": [
    "from resnet_dlib_train import feature_gen \n",
    "X_facial = []\n",
    "for img in sorted(os.listdir(TRAIN_DIR)):\n",
    "    bounding_box, features = feature_gen(TRAIN_DIR, img)\n",
    "    X_facial.append(features)\n",
    "X_train = np.array(X_facial)"
   ]
  },
  {
   "cell_type": "code",
   "execution_count": 4,
   "metadata": {
    "collapsed": true
   },
   "outputs": [],
   "source": [
    "from resnet_dlib_test import feature_gen\n",
    "X_facial_test = []\n",
    "for img in sorted(os.listdir(TEST_DIR)):\n",
    "    bounding_box, features = feature_gen(TEST_DIR, img)\n",
    "    X_facial_test.append(features)\n",
    "X_test = np.array(X_facial_test)"
   ]
  },
  {
   "cell_type": "code",
   "execution_count": 5,
   "metadata": {},
   "outputs": [
    {
     "name": "stdout",
     "output_type": "stream",
     "text": [
      "Training matrix shape  (24, 128)\n",
      "Testing matrix shape   (63, 128)\n"
     ]
    }
   ],
   "source": [
    "print(\"Training matrix shape \", X_train.shape) #  m X features\n",
    "print(\"Testing matrix shape  \", X_test.shape) #  m X features"
   ]
  },
  {
   "cell_type": "code",
   "execution_count": 6,
   "metadata": {},
   "outputs": [
    {
     "name": "stdout",
     "output_type": "stream",
     "text": [
      "Epoch 1/10\n",
      "24/24 [==============================] - 0s 19ms/step - loss: 2.2097 - acc: 0.0417\n",
      "Epoch 2/10\n",
      "24/24 [==============================] - 0s 4ms/step - loss: 0.3650 - acc: 0.8750\n",
      "Epoch 3/10\n",
      "24/24 [==============================] - 0s 4ms/step - loss: 0.1000 - acc: 1.0000\n",
      "Epoch 4/10\n",
      "24/24 [==============================] - 0s 5ms/step - loss: 0.0324 - acc: 1.0000\n",
      "Epoch 5/10\n",
      "24/24 [==============================] - 0s 4ms/step - loss: 0.0172 - acc: 1.0000\n",
      "Epoch 6/10\n",
      "24/24 [==============================] - 0s 5ms/step - loss: 0.0072 - acc: 1.0000\n",
      "Epoch 7/10\n",
      "24/24 [==============================] - 0s 4ms/step - loss: 0.0025 - acc: 1.0000\n",
      "Epoch 8/10\n",
      "24/24 [==============================] - 0s 5ms/step - loss: 0.0011 - acc: 1.0000\n",
      "Epoch 9/10\n",
      "24/24 [==============================] - 0s 4ms/step - loss: 5.3817e-04 - acc: 1.0000\n",
      "Epoch 10/10\n",
      "24/24 [==============================] - 0s 4ms/step - loss: 3.2251e-04 - acc: 1.0000\n"
     ]
    },
    {
     "data": {
      "text/plain": [
       "<keras.callbacks.History at 0x12dbefbe0>"
      ]
     },
     "execution_count": 6,
     "metadata": {},
     "output_type": "execute_result"
    }
   ],
   "source": [
    "import tensorflow as tf\n",
    "tf.logging.set_verbosity(tf.logging.ERROR)\n",
    "\n",
    "model=Sequential()\n",
    "\n",
    "model.add(Dense(1024, input_dim=128, activation='relu',kernel_initializer='glorot_uniform'))\n",
    "keras.layers.core.Dropout(0.3)\n",
    "model.add(keras.layers.BatchNormalization(axis=-1, momentum=0.99, epsilon=0.001))\n",
    "\n",
    "model.add(Dense(4096,input_dim=1024,activation='relu'))\n",
    "keras.layers.core.Dropout(0.5)\n",
    "\n",
    "model.add(Dense(9,input_dim=128,activation='softmax'))\n",
    "model.compile(loss='categorical_crossentropy', optimizer='adam', metrics=['accuracy'])\n",
    "\n",
    "model.fit(X_train, Y_train, epochs=10)"
   ]
  },
  {
   "cell_type": "code",
   "execution_count": 7,
   "metadata": {},
   "outputs": [
    {
     "name": "stdout",
     "output_type": "stream",
     "text": [
      "[[0.09899785 0.05441674 0.11142375 0.3752228  0.06396919 0.07847137\n",
      "  0.06540623 0.08773524 0.0643568 ]\n",
      " [0.1112946  0.05722768 0.11461105 0.3112574  0.07181124 0.09054919\n",
      "  0.06634458 0.10719702 0.06970722]\n",
      " [0.1076021  0.0586112  0.13681161 0.31138417 0.07763389 0.07433553\n",
      "  0.0739069  0.08977229 0.0699423 ]\n",
      " [0.10445102 0.05447232 0.12109904 0.35485741 0.0676882  0.08183816\n",
      "  0.06260488 0.08699404 0.06599493]\n",
      " [0.112265   0.05626351 0.11697236 0.32381353 0.07126986 0.0846325\n",
      "  0.06300982 0.10420576 0.06756778]\n",
      " [0.12732914 0.05762239 0.1180949  0.30183026 0.06474607 0.08346255\n",
      "  0.07095204 0.10728198 0.06868061]\n",
      " [0.1127222  0.05432937 0.10951231 0.31741515 0.07664052 0.08731826\n",
      "  0.07406202 0.09812127 0.06987898]\n",
      " [0.11904301 0.06084167 0.12344324 0.27999434 0.08306871 0.08813865\n",
      "  0.07639062 0.09595283 0.07312693]\n",
      " [0.12171005 0.0611392  0.1178626  0.2819758  0.07730763 0.08567373\n",
      "  0.07004011 0.11165677 0.0726341 ]\n",
      " [0.10767902 0.05894717 0.12567984 0.31100228 0.07065505 0.08125876\n",
      "  0.06790474 0.10800111 0.06887209]\n",
      " [0.12004714 0.06545484 0.12971193 0.25797746 0.08404674 0.08626287\n",
      "  0.07107732 0.11213953 0.07328212]\n",
      " [0.10183708 0.10996448 0.13650553 0.1439844  0.08707952 0.09305018\n",
      "  0.10966959 0.13376215 0.08414701]\n",
      " [0.11447402 0.10456562 0.13822952 0.13804498 0.08412824 0.09523706\n",
      "  0.10429809 0.13745207 0.08357037]\n",
      " [0.10680036 0.10061391 0.13268794 0.15780331 0.08148194 0.09159862\n",
      "  0.12515883 0.12064203 0.08321308]\n",
      " [0.12049624 0.08791327 0.12302344 0.1606459  0.08249622 0.09548312\n",
      "  0.11504818 0.13042991 0.08446365]\n",
      " [0.1144199  0.091878   0.1338035  0.15537737 0.08025802 0.10555068\n",
      "  0.09617547 0.13927478 0.08326228]\n",
      " [0.10807315 0.10226021 0.1420624  0.1431592  0.07331722 0.09940626\n",
      "  0.08812243 0.1627771  0.0808221 ]\n",
      " [0.109967   0.09553375 0.10465427 0.18976085 0.08155718 0.15399125\n",
      "  0.08014339 0.10383873 0.08055369]\n",
      " [0.12307494 0.09528783 0.12219153 0.16946484 0.0823952  0.14980383\n",
      "  0.07925037 0.09785382 0.08067761]\n",
      " [0.12285418 0.09540183 0.11215523 0.16807894 0.08083454 0.15243293\n",
      "  0.08623872 0.10148158 0.08052205]\n",
      " [0.12528281 0.09455756 0.10522808 0.17215064 0.08967454 0.14312957\n",
      "  0.08266589 0.10693134 0.08037955]\n",
      " [0.1401846  0.0815301  0.105689   0.18777174 0.07730372 0.13286835\n",
      "  0.0769192  0.11868149 0.07905177]\n",
      " [0.12408321 0.09528792 0.10848433 0.16492821 0.08975171 0.15471347\n",
      "  0.08450776 0.09659877 0.08164458]\n",
      " [0.10555803 0.10882343 0.13047352 0.17105828 0.08602897 0.13262989\n",
      "  0.0792389  0.10481288 0.08137611]\n",
      " [0.12724449 0.09439226 0.11384521 0.16909045 0.08666475 0.13876571\n",
      "  0.08727553 0.1011887  0.08153298]\n",
      " [0.12259688 0.09261048 0.11625646 0.17167981 0.07866281 0.16016155\n",
      "  0.07890969 0.09928345 0.07983882]\n",
      " [0.11176044 0.10030767 0.10950058 0.17807545 0.07815097 0.14365514\n",
      "  0.08403878 0.11428518 0.08022578]\n",
      " [0.14808139 0.06586916 0.10998021 0.200153   0.06833737 0.08900075\n",
      "  0.10277756 0.14183167 0.07396885]\n",
      " [0.15351915 0.06964948 0.11116681 0.18147403 0.07679892 0.08531839\n",
      "  0.11262602 0.13364217 0.07580503]\n",
      " [0.15341178 0.07297496 0.10313506 0.18061222 0.07282863 0.09681439\n",
      "  0.10619649 0.13843094 0.0755956 ]\n",
      " [0.15080097 0.06703673 0.10501422 0.18651536 0.07000479 0.08714096\n",
      "  0.09990847 0.16071819 0.07286029]\n",
      " [0.16539647 0.06929421 0.10026753 0.17819364 0.07822297 0.09230012\n",
      "  0.10813832 0.13051397 0.07767274]\n",
      " [0.14833322 0.07082974 0.11081131 0.17826682 0.07887453 0.09429284\n",
      "  0.10169064 0.13878478 0.07811612]\n",
      " [0.13709767 0.07006291 0.11026603 0.21141082 0.07825983 0.08665506\n",
      "  0.09989499 0.12906307 0.07728962]\n",
      " [0.14665712 0.07082179 0.10483492 0.18574896 0.07315075 0.09101617\n",
      "  0.10844734 0.14397793 0.07534508]\n",
      " [0.15936819 0.06956363 0.11852589 0.17092419 0.07579053 0.08202747\n",
      "  0.11028434 0.13813236 0.07538339]\n",
      " [0.16796553 0.0687594  0.10436842 0.18240322 0.07219946 0.09186419\n",
      "  0.10313326 0.13260776 0.07669888]\n",
      " [0.11767287 0.09839708 0.10730543 0.14514786 0.09480134 0.13168444\n",
      "  0.1218553  0.09547225 0.08766345]\n",
      " [0.11737353 0.10443888 0.11091056 0.14485428 0.08836799 0.14531519\n",
      "  0.10514095 0.09702989 0.08656871]\n",
      " [0.11145648 0.06903172 0.11741535 0.16462693 0.13364899 0.08777453\n",
      "  0.08271157 0.14999014 0.08334422]\n",
      " [0.10298798 0.07587381 0.11267918 0.16634148 0.12760201 0.08062488\n",
      "  0.08492112 0.16760308 0.08136641]\n",
      " [0.11095749 0.07160132 0.10641937 0.16561377 0.13309659 0.08880032\n",
      "  0.09044402 0.14780903 0.08525812]\n",
      " [0.11004535 0.07235333 0.11975125 0.1604534  0.13580981 0.09011362\n",
      "  0.08423065 0.14317009 0.08407248]\n",
      " [0.11098586 0.07620441 0.1126643  0.14935891 0.13509648 0.08270882\n",
      "  0.08363958 0.16586754 0.08347414]\n",
      " [0.11450531 0.07126354 0.1133258  0.16545108 0.12161086 0.08479302\n",
      "  0.08563082 0.16021784 0.0832017 ]\n",
      " [0.10953626 0.07889798 0.1133889  0.15226783 0.1426257  0.0825729\n",
      "  0.08248848 0.1544192  0.08380277]\n",
      " [0.13840786 0.07498831 0.18531533 0.1607332  0.11386263 0.0804427\n",
      "  0.06901661 0.1007615  0.07647185]\n",
      " [0.1508817  0.07318022 0.16228436 0.15278451 0.10326695 0.08570799\n",
      "  0.07487937 0.11788575 0.07912923]\n",
      " [0.14172262 0.07559837 0.1646988  0.15817924 0.10873015 0.08698628\n",
      "  0.06734819 0.11832105 0.07841533]\n",
      " [0.13272077 0.07988489 0.19130221 0.15098128 0.10932154 0.07855271\n",
      "  0.07324379 0.10711655 0.07687626]\n",
      " [0.14347436 0.07683755 0.16489469 0.1552688  0.10350865 0.08417664\n",
      "  0.08057372 0.11217063 0.07909497]\n",
      " [0.1347474  0.07756456 0.1739206  0.15340598 0.10901178 0.08442833\n",
      "  0.07685578 0.11111973 0.07894587]\n",
      " [0.13677931 0.08074734 0.17433748 0.14956841 0.10236509 0.08342449\n",
      "  0.07450057 0.12004884 0.07822844]\n",
      " [0.13568632 0.07563769 0.16658895 0.16193385 0.10139479 0.08403824\n",
      "  0.07859655 0.11703838 0.07908516]\n",
      " [0.1378872  0.07618139 0.15789986 0.15714319 0.13520163 0.07750492\n",
      "  0.07608935 0.10204738 0.08004516]\n",
      " [0.14726208 0.07907823 0.1686083  0.14426044 0.12137504 0.07853293\n",
      "  0.07583673 0.10660636 0.07843983]\n",
      " [0.14477497 0.0756993  0.16213043 0.14622341 0.12045633 0.08160058\n",
      "  0.08131719 0.10746977 0.08032796]\n",
      " [0.1500034  0.06597883 0.2018011  0.1890871  0.06974041 0.08105856\n",
      "  0.07445614 0.09762712 0.0702474 ]\n",
      " [0.17967586 0.06291679 0.18396161 0.18356678 0.07113201 0.0832334\n",
      "  0.07344981 0.09202471 0.07003907]\n",
      " [0.1489242  0.07023835 0.22849074 0.17129977 0.06904815 0.08044728\n",
      "  0.06731832 0.09498147 0.06925162]\n",
      " [0.15759328 0.06726902 0.20950586 0.16594923 0.07413623 0.08203221\n",
      "  0.07668275 0.09648586 0.07034546]\n",
      " [0.15630928 0.06614298 0.20047231 0.17855653 0.07037244 0.0828936\n",
      "  0.07192692 0.10308007 0.07024592]\n",
      " [0.12679815 0.06917931 0.1974006  0.20857517 0.07232439 0.08211785\n",
      "  0.07063933 0.10213547 0.0708297 ]]\n"
     ]
    },
    {
     "ename": "ValueError",
     "evalue": "Error when checking target: expected dense_3 to have shape (None, 9) but got array with shape (0, 1)",
     "output_type": "error",
     "traceback": [
      "\u001b[0;31m---------------------------------------------------------------------------\u001b[0m",
      "\u001b[0;31mValueError\u001b[0m                                Traceback (most recent call last)",
      "\u001b[0;32m<ipython-input-7-0278672b590e>\u001b[0m in \u001b[0;36m<module>\u001b[0;34m()\u001b[0m\n\u001b[1;32m      3\u001b[0m \u001b[0mpred\u001b[0m \u001b[0;34m=\u001b[0m \u001b[0mmodel\u001b[0m\u001b[0;34m.\u001b[0m\u001b[0mpredict\u001b[0m\u001b[0;34m(\u001b[0m\u001b[0mX_test\u001b[0m\u001b[0;34m,\u001b[0m \u001b[0mbatch_size\u001b[0m\u001b[0;34m=\u001b[0m\u001b[0;36m32\u001b[0m\u001b[0;34m,\u001b[0m \u001b[0mverbose\u001b[0m\u001b[0;34m=\u001b[0m\u001b[0;36m0\u001b[0m\u001b[0;34m)\u001b[0m\u001b[0;34m\u001b[0m\u001b[0m\n\u001b[1;32m      4\u001b[0m \u001b[0mprint\u001b[0m\u001b[0;34m(\u001b[0m\u001b[0mpred\u001b[0m\u001b[0;34m)\u001b[0m\u001b[0;34m\u001b[0m\u001b[0m\n\u001b[0;32m----> 5\u001b[0;31m \u001b[0mprint\u001b[0m\u001b[0;34m(\u001b[0m\u001b[0mmodel\u001b[0m\u001b[0;34m.\u001b[0m\u001b[0mevaluate\u001b[0m\u001b[0;34m(\u001b[0m\u001b[0mX_test\u001b[0m\u001b[0;34m,\u001b[0m\u001b[0mY_test\u001b[0m\u001b[0;34m)\u001b[0m\u001b[0;34m)\u001b[0m\u001b[0;34m\u001b[0m\u001b[0m\n\u001b[0m",
      "\u001b[0;32m/Users/dhitithakkar/anaconda/lib/python3.6/site-packages/keras/models.py\u001b[0m in \u001b[0;36mevaluate\u001b[0;34m(self, x, y, batch_size, verbose, sample_weight)\u001b[0m\n\u001b[1;32m    987\u001b[0m                                    \u001b[0mbatch_size\u001b[0m\u001b[0;34m=\u001b[0m\u001b[0mbatch_size\u001b[0m\u001b[0;34m,\u001b[0m\u001b[0;34m\u001b[0m\u001b[0m\n\u001b[1;32m    988\u001b[0m                                    \u001b[0mverbose\u001b[0m\u001b[0;34m=\u001b[0m\u001b[0mverbose\u001b[0m\u001b[0;34m,\u001b[0m\u001b[0;34m\u001b[0m\u001b[0m\n\u001b[0;32m--> 989\u001b[0;31m                                    sample_weight=sample_weight)\n\u001b[0m\u001b[1;32m    990\u001b[0m \u001b[0;34m\u001b[0m\u001b[0m\n\u001b[1;32m    991\u001b[0m     \u001b[0;32mdef\u001b[0m \u001b[0mpredict\u001b[0m\u001b[0;34m(\u001b[0m\u001b[0mself\u001b[0m\u001b[0;34m,\u001b[0m \u001b[0mx\u001b[0m\u001b[0;34m,\u001b[0m \u001b[0mbatch_size\u001b[0m\u001b[0;34m=\u001b[0m\u001b[0;36m32\u001b[0m\u001b[0;34m,\u001b[0m \u001b[0mverbose\u001b[0m\u001b[0;34m=\u001b[0m\u001b[0;36m0\u001b[0m\u001b[0;34m)\u001b[0m\u001b[0;34m:\u001b[0m\u001b[0;34m\u001b[0m\u001b[0m\n",
      "\u001b[0;32m/Users/dhitithakkar/anaconda/lib/python3.6/site-packages/keras/engine/training.py\u001b[0m in \u001b[0;36mevaluate\u001b[0;34m(self, x, y, batch_size, verbose, sample_weight, steps)\u001b[0m\n\u001b[1;32m   1721\u001b[0m             \u001b[0msample_weight\u001b[0m\u001b[0;34m=\u001b[0m\u001b[0msample_weight\u001b[0m\u001b[0;34m,\u001b[0m\u001b[0;34m\u001b[0m\u001b[0m\n\u001b[1;32m   1722\u001b[0m             \u001b[0mcheck_batch_axis\u001b[0m\u001b[0;34m=\u001b[0m\u001b[0;32mFalse\u001b[0m\u001b[0;34m,\u001b[0m\u001b[0;34m\u001b[0m\u001b[0m\n\u001b[0;32m-> 1723\u001b[0;31m             batch_size=batch_size)\n\u001b[0m\u001b[1;32m   1724\u001b[0m         \u001b[0;31m# Prepare inputs, delegate logic to `_test_loop`.\u001b[0m\u001b[0;34m\u001b[0m\u001b[0;34m\u001b[0m\u001b[0m\n\u001b[1;32m   1725\u001b[0m         \u001b[0;32mif\u001b[0m \u001b[0mself\u001b[0m\u001b[0;34m.\u001b[0m\u001b[0muses_learning_phase\u001b[0m \u001b[0;32mand\u001b[0m \u001b[0;32mnot\u001b[0m \u001b[0misinstance\u001b[0m\u001b[0;34m(\u001b[0m\u001b[0mK\u001b[0m\u001b[0;34m.\u001b[0m\u001b[0mlearning_phase\u001b[0m\u001b[0;34m(\u001b[0m\u001b[0;34m)\u001b[0m\u001b[0;34m,\u001b[0m \u001b[0mint\u001b[0m\u001b[0;34m)\u001b[0m\u001b[0;34m:\u001b[0m\u001b[0;34m\u001b[0m\u001b[0m\n",
      "\u001b[0;32m/Users/dhitithakkar/anaconda/lib/python3.6/site-packages/keras/engine/training.py\u001b[0m in \u001b[0;36m_standardize_user_data\u001b[0;34m(self, x, y, sample_weight, class_weight, check_batch_axis, batch_size)\u001b[0m\n\u001b[1;32m   1416\u001b[0m                                     \u001b[0moutput_shapes\u001b[0m\u001b[0;34m,\u001b[0m\u001b[0;34m\u001b[0m\u001b[0m\n\u001b[1;32m   1417\u001b[0m                                     \u001b[0mcheck_batch_axis\u001b[0m\u001b[0;34m=\u001b[0m\u001b[0;32mFalse\u001b[0m\u001b[0;34m,\u001b[0m\u001b[0;34m\u001b[0m\u001b[0m\n\u001b[0;32m-> 1418\u001b[0;31m                                     exception_prefix='target')\n\u001b[0m\u001b[1;32m   1419\u001b[0m         sample_weights = _standardize_sample_weights(sample_weight,\n\u001b[1;32m   1420\u001b[0m                                                      self._feed_output_names)\n",
      "\u001b[0;32m/Users/dhitithakkar/anaconda/lib/python3.6/site-packages/keras/engine/training.py\u001b[0m in \u001b[0;36m_standardize_input_data\u001b[0;34m(data, names, shapes, check_batch_axis, exception_prefix)\u001b[0m\n\u001b[1;32m    151\u001b[0m                             \u001b[0;34m' to have shape '\u001b[0m \u001b[0;34m+\u001b[0m \u001b[0mstr\u001b[0m\u001b[0;34m(\u001b[0m\u001b[0mshapes\u001b[0m\u001b[0;34m[\u001b[0m\u001b[0mi\u001b[0m\u001b[0;34m]\u001b[0m\u001b[0;34m)\u001b[0m \u001b[0;34m+\u001b[0m\u001b[0;34m\u001b[0m\u001b[0m\n\u001b[1;32m    152\u001b[0m                             \u001b[0;34m' but got array with shape '\u001b[0m \u001b[0;34m+\u001b[0m\u001b[0;34m\u001b[0m\u001b[0m\n\u001b[0;32m--> 153\u001b[0;31m                             str(array.shape))\n\u001b[0m\u001b[1;32m    154\u001b[0m     \u001b[0;32mreturn\u001b[0m \u001b[0marrays\u001b[0m\u001b[0;34m\u001b[0m\u001b[0m\n\u001b[1;32m    155\u001b[0m \u001b[0;34m\u001b[0m\u001b[0m\n",
      "\u001b[0;31mValueError\u001b[0m: Error when checking target: expected dense_3 to have shape (None, 9) but got array with shape (0, 1)"
     ]
    }
   ],
   "source": [
    "model.save('my_trial_model.dat')\n",
    "from sklearn.metrics import log_loss\n",
    "pred = model.predict(X_test, batch_size=32, verbose=0)\n",
    "print(pred)\n",
    "print(model.evaluate(X_test,Y_test))"
   ]
  },
  {
   "cell_type": "code",
   "execution_count": 8,
   "metadata": {},
   "outputs": [
    {
     "name": "stdout",
     "output_type": "stream",
     "text": [
      "_________________________________________________________________\n",
      "Layer (type)                 Output Shape              Param #   \n",
      "=================================================================\n",
      "dense_1 (Dense)              (None, 1024)              132096    \n",
      "_________________________________________________________________\n",
      "batch_normalization_1 (Batch (None, 1024)              4096      \n",
      "_________________________________________________________________\n",
      "dense_2 (Dense)              (None, 4096)              4198400   \n",
      "_________________________________________________________________\n",
      "dense_3 (Dense)              (None, 9)                 36873     \n",
      "=================================================================\n",
      "Total params: 4,371,465\n",
      "Trainable params: 4,369,417\n",
      "Non-trainable params: 2,048\n",
      "_________________________________________________________________\n"
     ]
    }
   ],
   "source": [
    "model.summary()"
   ]
  },
  {
   "cell_type": "code",
   "execution_count": 16,
   "metadata": {},
   "outputs": [
    {
     "name": "stdout",
     "output_type": "stream",
     "text": [
      "Dlib_FC_NoVGG.ipynb\r\n",
      "LICENSE\r\n",
      "PCA_KNN_FR.ipynb\r\n",
      "PCA_SVM_FR.ipynb\r\n",
      "README.md\r\n",
      "TL_Dlib_VGG.ipynb\r\n",
      "TL_VGG_1.ipynb\r\n",
      "Trial_CV2_Aug.ipynb\r\n",
      "\u001b[34m__pycache__\u001b[m\u001b[m/\r\n",
      "cache.py\r\n",
      "cifar10.py\r\n",
      "convert.py\r\n",
      "dataset.py\r\n",
      "dlib_face_recognition_resnet_model_v1.dat\r\n",
      "dlib_face_recognition_resnet_model_v1.dat.bz2\r\n",
      "dlib_resnet_inception_o.ipynb\r\n",
      "dlib_resnet_o.ipynb\r\n",
      "dlib_test.ipynb\r\n",
      "dlib_test.py\r\n",
      "dlib_train.ipynb\r\n",
      "dlib_train.py\r\n",
      "download.py\r\n",
      "faceRecogTransfer_celeb_4.py\r\n",
      "inception.py\r\n",
      "inception5h.py\r\n",
      "knifey.py\r\n",
      "\u001b[34mmodel\u001b[m\u001b[m/\r\n",
      "\u001b[34moutput\u001b[m\u001b[m/\r\n",
      "reinforcement_learning.py\r\n",
      "resnet_dlib.py\r\n",
      "resnet_dlib_o.ipynb\r\n",
      "resnet_dlib_o.py\r\n",
      "resnet_dlib_test.py\r\n",
      "resnet_dlib_train.py\r\n",
      "shape_predictor_68_face_landmarks.dat\r\n",
      "shape_predictor_68_face_landmarks.dat.bz2\r\n",
      "\u001b[34mtest\u001b[m\u001b[m/\r\n",
      "\u001b[34mtrain\u001b[m\u001b[m/\r\n",
      "vgg16.py\r\n"
     ]
    }
   ],
   "source": [
    "%ls"
   ]
  },
  {
   "cell_type": "markdown",
   "metadata": {},
   "source": [
    "# Path to saved model weights(as hdf5)\n",
    "resume_weights = \"./mnist-cnn-best.hdf5\", run the cell, go to the Resume a checkpoint Code Cell, run it, and rerun the Training Code Cell, that's it."
   ]
  }
 ],
 "metadata": {
  "kernelspec": {
   "display_name": "Python 3",
   "language": "python",
   "name": "python3"
  },
  "language_info": {
   "codemirror_mode": {
    "name": "ipython",
    "version": 3
   },
   "file_extension": ".py",
   "mimetype": "text/x-python",
   "name": "python",
   "nbconvert_exporter": "python",
   "pygments_lexer": "ipython3",
   "version": "3.6.1"
  }
 },
 "nbformat": 4,
 "nbformat_minor": 2
}
